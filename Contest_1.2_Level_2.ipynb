{
 "cells": [
  {
   "cell_type": "code",
   "execution_count": 1,
   "metadata": {
    "_uuid": "ade693223d3ca0533ebee4615da076808c9f4408",
    "colab": {},
    "colab_type": "code",
    "id": "a192xmwKijHs"
   },
   "outputs": [],
   "source": [
    "import os\n",
    "import sys\n",
    "import pickle\n",
    "import numpy as np\n",
    "import pandas as pd\n",
    "from PIL import Image, ImageFilter\n",
    "from tqdm import tqdm_notebook\n",
    "from sklearn.preprocessing import StandardScaler\n",
    "from sklearn.metrics import accuracy_score, mean_squared_error, log_loss, confusion_matrix\n",
    "import matplotlib.pyplot as plt\n",
    "\n",
    "np.random.seed(100)\n",
    "LEVEL = 'level_2'"
   ]
  },
  {
   "cell_type": "code",
   "execution_count": 2,
   "metadata": {
    "_uuid": "1cffed55190d4b9a0f5a3d615f29f52fda756af2",
    "colab": {},
    "colab_type": "code",
    "id": "VDe2wjl_ijH0"
   },
   "outputs": [],
   "source": [
    "def read_all(folder_path, key_prefix=\"\"):\n",
    "    '''\n",
    "    It returns a dictionary with 'file names' as keys and 'flattened image arrays' as values.\n",
    "    '''\n",
    "    print(\"Reading:\")\n",
    "    images = {}\n",
    "    files = os.listdir(folder_path)\n",
    "    for i, file_name in tqdm_notebook(enumerate(files), total=len(files)):\n",
    "        file_path = os.path.join(folder_path, file_name)\n",
    "        image_index = key_prefix + file_name[:-4]\n",
    "        image = Image.open(file_path)\n",
    "        image = image.convert(\"L\")\n",
    "        images[image_index] = np.array(image.copy()).flatten()\n",
    "        image.close()\n",
    "    return images"
   ]
  },
  {
   "cell_type": "code",
   "execution_count": 3,
   "metadata": {
    "_uuid": "fe4cde48e70ef8728245fbfa6389a82abf2cef5a",
    "colab": {},
    "colab_type": "code",
    "id": "mjuaN532ijH4",
    "outputId": "4124ae5e-4a9c-44dc-8c84-7919e6927fe5"
   },
   "outputs": [
    {
     "name": "stdout",
     "output_type": "stream",
     "text": [
      "Reading:\n"
     ]
    },
    {
     "data": {
      "application/vnd.jupyter.widget-view+json": {
       "model_id": "cff21122fce94292813d8c3a9f901db3",
       "version_major": 2,
       "version_minor": 0
      },
      "text/plain": [
       "HBox(children=(IntProgress(value=0, max=450), HTML(value='')))"
      ]
     },
     "metadata": {},
     "output_type": "display_data"
    },
    {
     "name": "stdout",
     "output_type": "stream",
     "text": [
      "\n",
      "Reading:\n"
     ]
    },
    {
     "data": {
      "application/vnd.jupyter.widget-view+json": {
       "model_id": "d1e22bd099b743c3ae7be34b3c82ca1e",
       "version_major": 2,
       "version_minor": 0
      },
      "text/plain": [
       "HBox(children=(IntProgress(value=0, max=150), HTML(value='')))"
      ]
     },
     "metadata": {},
     "output_type": "display_data"
    },
    {
     "name": "stdout",
     "output_type": "stream",
     "text": [
      "\n",
      "Reading:\n"
     ]
    },
    {
     "data": {
      "application/vnd.jupyter.widget-view+json": {
       "model_id": "372c706beed743bbab9d7c96b1246bbe",
       "version_major": 2,
       "version_minor": 0
      },
      "text/plain": [
       "HBox(children=(IntProgress(value=0, max=150), HTML(value='')))"
      ]
     },
     "metadata": {},
     "output_type": "display_data"
    },
    {
     "name": "stdout",
     "output_type": "stream",
     "text": [
      "\n",
      "Reading:\n"
     ]
    },
    {
     "data": {
      "application/vnd.jupyter.widget-view+json": {
       "model_id": "421cd55c5238493fb332a3543a7b8159",
       "version_major": 2,
       "version_minor": 0
      },
      "text/plain": [
       "HBox(children=(IntProgress(value=0, max=150), HTML(value='')))"
      ]
     },
     "metadata": {},
     "output_type": "display_data"
    },
    {
     "name": "stdout",
     "output_type": "stream",
     "text": [
      "\n",
      "900\n",
      "Reading:\n"
     ]
    },
    {
     "data": {
      "application/vnd.jupyter.widget-view+json": {
       "model_id": "08abe75f85844cd8a7bdbdc10a43c986",
       "version_major": 2,
       "version_minor": 0
      },
      "text/plain": [
       "HBox(children=(IntProgress(value=0, max=300), HTML(value='')))"
      ]
     },
     "metadata": {},
     "output_type": "display_data"
    },
    {
     "name": "stdout",
     "output_type": "stream",
     "text": [
      "\n",
      "300\n"
     ]
    }
   ],
   "source": [
    "languages = ['ta', 'hi', 'en']\n",
    "\n",
    "images_train = read_all(\"../input/level_2_train/\"+LEVEL+\"/\"+\"background\", key_prefix='bgr_') # change the path\n",
    "for language in languages:\n",
    "  images_train.update(read_all(\"../input/level_2_train/\"+LEVEL+\"/\"+language, key_prefix=language+\"_\" ))\n",
    "print(len(images_train))\n",
    "\n",
    "images_test = read_all(\"../input/level_2_test/kaggle_\"+LEVEL, key_prefix='') # change the path\n",
    "print(len(images_test))"
   ]
  },
  {
   "cell_type": "code",
   "execution_count": 4,
   "metadata": {
    "_uuid": "0bb03472717bda848f2c462cf4664e093ae6f407",
    "colab": {},
    "colab_type": "code",
    "id": "xqcTJRmSijH-",
    "outputId": "3a26f608-868b-498d-b18d-bfae2b452d4e"
   },
   "outputs": [
    {
     "data": {
      "text/plain": [
       "['145', '34', '90', '261', '48']"
      ]
     },
     "execution_count": 4,
     "metadata": {},
     "output_type": "execute_result"
    }
   ],
   "source": [
    "list(images_test.keys())[:5]"
   ]
  },
  {
   "cell_type": "code",
   "execution_count": 5,
   "metadata": {
    "_uuid": "da7b79d393693b0a36a49ac5be89b444a93e0836",
    "colab": {},
    "colab_type": "code",
    "id": "yQUKxV_FijIC",
    "outputId": "e6f2538b-3285-49ea-d6fd-7fbadc2bb975"
   },
   "outputs": [
    {
     "name": "stdout",
     "output_type": "stream",
     "text": [
      "(900, 256) (900,)\n",
      "(300, 256)\n"
     ]
    }
   ],
   "source": [
    "X_train = []\n",
    "Y_train = []\n",
    "for key, value in images_train.items():\n",
    "    X_train.append(value)\n",
    "    if key[:4] == \"bgr_\":\n",
    "        Y_train.append(0)\n",
    "    else:\n",
    "        Y_train.append(1)\n",
    "\n",
    "ID_test = []\n",
    "X_test = []\n",
    "for key, value in images_test.items():\n",
    "  ID_test.append(int(key))\n",
    "  X_test.append(value)\n",
    "  \n",
    "\n",
    "X_train = np.array(X_train)\n",
    "Y_train = np.array(Y_train)\n",
    "X_test = np.array(X_test)\n",
    "\n",
    "print(X_train.shape, Y_train.shape)\n",
    "print(X_test.shape)"
   ]
  },
  {
   "cell_type": "code",
   "execution_count": 6,
   "metadata": {
    "_uuid": "850d630bf7f37cd79e6ec7cfafac4128c7eaa813"
   },
   "outputs": [
    {
     "data": {
      "text/plain": [
       "array([165, 205, 144, 174, 205, 245,  53, 127, 217, 221,  21, 177, 206,\n",
       "       236,   8,  75,  20, 115,  91,  87, 169,  29,  43,   0,  37, 192,\n",
       "        47, 225, 103,   4, 157, 131, 255, 206, 218, 198,   5,  45, 105,\n",
       "        96, 163,  92, 199, 117,  94,  41, 251, 217, 108, 228,  13,  99,\n",
       "       238, 192, 165, 165,  36, 254,  40, 166,  55, 117,  66,  26,  94,\n",
       "       196, 134, 158, 131,  76, 225, 188,  78, 165,  60, 141, 204,  70,\n",
       "       147, 152, 215,  82,  93, 107, 144, 101, 189, 255, 110, 117, 207,\n",
       "        60, 247,  33, 101,  64,  78,  18,   5, 204,  25, 144, 206,   4,\n",
       "        12, 124,  57, 159, 210,   2, 163,  31, 236, 216, 144, 132, 129,\n",
       "       242, 138, 178, 161, 107, 156,   5, 241,  62, 132, 114, 178, 143,\n",
       "       165, 174, 195,  25, 161, 229, 201, 112, 120,  82, 233,   8,  81,\n",
       "       149, 181, 207,  57, 210,  40,   4, 124, 255,  35,  46, 139, 123,\n",
       "        27, 176,  61,  64,  69, 152, 176, 198,  38, 195,  40, 177,   0,\n",
       "        57, 148,  70,  67, 255,  97,  27, 243,  82, 190, 143,  25, 240,\n",
       "       198, 235,  41,  98,  48, 114,  56,  69,  59,  92, 247,  67, 180,\n",
       "        64, 175, 140,  69,  58, 104,  88,  76, 166, 113,  92,   9, 188,\n",
       "        99, 198,  82, 171, 242, 167, 118,  26, 166,  85,  77, 157,  74,\n",
       "       235, 116,  37, 252,  57, 255,  77, 145, 146, 234, 173,  68, 220,\n",
       "       148, 109,  84,  81, 148,  29,  97, 252,  71,  78,  30, 144, 122,\n",
       "       223,  62, 146,  48, 128, 200, 238,  22,  56], dtype=uint8)"
      ]
     },
     "execution_count": 6,
     "metadata": {},
     "output_type": "execute_result"
    }
   ],
   "source": [
    "X_train[10]"
   ]
  },
  {
   "cell_type": "code",
   "execution_count": 7,
   "metadata": {
    "_uuid": "c74f3f2143ca736f7634d101038e38f943c988b1"
   },
   "outputs": [
    {
     "data": {
      "text/plain": [
       "array([229, 255, 182, 203,  16,  59, 147, 208, 190, 188, 141,   8, 148,\n",
       "        81, 237,  22, 228,  60, 188, 233,   9, 190, 225, 126, 193,  20,\n",
       "        80, 185, 239, 151, 207,  40,  78, 111,  95, 114, 222, 195, 151,\n",
       "       214, 183,  57, 100, 176,  78, 202, 218, 115, 230,   9, 251, 171,\n",
       "        19, 163,  96, 219,  35,  31, 253, 107, 247,  38,  45,  15, 254,\n",
       "        49,  38, 118, 119,  31, 245, 123, 132, 178, 225,  38, 112,  40,\n",
       "       116, 189,  58, 191, 177, 122, 114,  67, 135,  35,  64,  66, 150,\n",
       "       104,  75,   0, 122, 116, 206, 160, 150, 128, 159, 125,   2, 173,\n",
       "        67, 229, 220, 122, 245,  38,  52, 134,   0, 156, 159, 222,  20,\n",
       "       237, 213, 145, 144, 213, 138, 241,  32,  64,  84,  93, 201,  35,\n",
       "       123, 154, 103,  85,  93, 230,  44, 238, 241,  91,  37, 113,  61,\n",
       "       101, 238, 124, 225, 123, 187,  78,  13, 151, 244, 224, 180,  48,\n",
       "        29,  22,  14, 202,  24,  48, 211, 193,  44,  60, 255,   5, 117,\n",
       "       117,  31, 115, 200, 255, 198,   0,  79, 232, 106, 156, 129,  42,\n",
       "        10, 173, 114,  14,  87,  82,  92, 215, 126, 132, 204, 185,  14,\n",
       "        38, 152, 138, 217,  51,  59, 230, 116, 222, 122, 162, 135, 175,\n",
       "       138, 212,  18, 166, 210,  39,   0, 167, 187,  49,  73,  44,  25,\n",
       "       123, 174,  63, 218,  62, 218, 193,  81, 229, 126,  72, 139,  80,\n",
       "       128,  40,  47, 145, 199, 233, 178, 197, 147,  44, 255, 187,  75,\n",
       "        22,  69, 107, 163, 232, 123,  77,  32, 135], dtype=uint8)"
      ]
     },
     "execution_count": 7,
     "metadata": {},
     "output_type": "execute_result"
    }
   ],
   "source": [
    "X_train[0]"
   ]
  },
  {
   "cell_type": "code",
   "execution_count": 8,
   "metadata": {
    "_uuid": "c913960bde1609922b1ca5a54815ed2f779cd172"
   },
   "outputs": [],
   "source": [
    "def binarise(X):\n",
    "    for i in range(len(X)):\n",
    "        X[i] = 1 if (X[i] == 255) else 0\n",
    "    return X"
   ]
  },
  {
   "cell_type": "code",
   "execution_count": 9,
   "metadata": {
    "_uuid": "a1f7489238de67cdcb604dc85a87f37a09a4d129"
   },
   "outputs": [],
   "source": [
    "X_bin_train = np.array(list(map(binarise, X_train)))\n",
    "X_bin_test = np.array(list(map(binarise, X_test)))"
   ]
  },
  {
   "cell_type": "code",
   "execution_count": 10,
   "metadata": {
    "_uuid": "d3e2ebecd8c0ec344ee40c8dd1b615cce61263e6"
   },
   "outputs": [],
   "source": [
    "# Just a white background so MP Neuron should be enough...\n",
    "class MPNeuron:\n",
    "    \n",
    "    def __init__(self):\n",
    "        self.b = None\n",
    "        \n",
    "    def model(self, x):\n",
    "        return int(sum(x) >= self.b)\n",
    "    \n",
    "    def predict(self, X):\n",
    "        Y_pred = []\n",
    "        for x in X:\n",
    "            Y_pred.append(self.model(x))\n",
    "        return np.array(Y_pred)\n",
    "        \n",
    "    def fit(self, X, Y):\n",
    "        accuracies = []\n",
    "        max_acc = 0\n",
    "        \n",
    "        for b in range(X.shape[1] + 1):\n",
    "            self.b = b\n",
    "            Y_pred = self.predict(X)\n",
    "            accuracy = accuracy_score(Y_pred, Y)\n",
    "            accuracies.append(accuracy)\n",
    "            if (max_acc < accuracy):\n",
    "                max_acc = accuracy\n",
    "                chkpt_b = b\n",
    "                \n",
    "        self.b = chkpt_b\n",
    "        return accuracies"
   ]
  },
  {
   "cell_type": "code",
   "execution_count": 11,
   "metadata": {
    "_uuid": "24a785cc370155a13591664918f4dceb952cf2a5"
   },
   "outputs": [],
   "source": [
    "mpn = MPNeuron()"
   ]
  },
  {
   "cell_type": "code",
   "execution_count": 12,
   "metadata": {
    "_uuid": "50d111192bde4e3af796f629850573e9d291efde"
   },
   "outputs": [],
   "source": [
    "accuracy = mpn.fit(X_train, Y_train)"
   ]
  },
  {
   "cell_type": "code",
   "execution_count": 13,
   "metadata": {
    "_uuid": "9a506b8a4882698c2f29f45717a54d7018f9384c"
   },
   "outputs": [
    {
     "name": "stdout",
     "output_type": "stream",
     "text": [
      "11\n",
      "[0.5, 0.5, 0.5266666666666666, 0.6033333333333334, 0.6944444444444444, 0.7955555555555556, 0.8922222222222222, 0.9377777777777778, 0.9666666666666667, 0.9755555555555555, 0.9833333333333333, 1.0, 1.0, 1.0, 1.0, 1.0, 1.0, 1.0, 1.0, 1.0, 0.9988888888888889, 0.9988888888888889, 0.9988888888888889, 0.9988888888888889, 0.9988888888888889, 0.9977777777777778, 0.9977777777777778, 0.9977777777777778, 0.9977777777777778, 0.9955555555555555, 0.9955555555555555, 0.9933333333333333, 0.9922222222222222, 0.99, 0.9877777777777778, 0.9822222222222222, 0.9788888888888889, 0.9788888888888889, 0.9777777777777777, 0.9777777777777777, 0.9766666666666667, 0.9744444444444444, 0.9733333333333334, 0.97, 0.9666666666666667, 0.9655555555555555, 0.9611111111111111, 0.9588888888888889, 0.9555555555555556, 0.9544444444444444, 0.95, 0.95, 0.9466666666666667, 0.94, 0.93, 0.9233333333333333, 0.9188888888888889, 0.9122222222222223, 0.91, 0.8977777777777778, 0.8855555555555555, 0.8811111111111111, 0.8677777777777778, 0.8666666666666667, 0.86, 0.8533333333333334, 0.8388888888888889, 0.8277777777777777, 0.8233333333333334, 0.8088888888888889, 0.8, 0.7911111111111111, 0.7833333333333333, 0.7755555555555556, 0.7655555555555555, 0.7466666666666667, 0.7388888888888889, 0.7288888888888889, 0.7155555555555555, 0.7055555555555556, 0.6955555555555556, 0.6833333333333333, 0.6688888888888889, 0.6566666666666666, 0.6488888888888888, 0.6455555555555555, 0.6377777777777778, 0.6344444444444445, 0.6311111111111111, 0.6244444444444445, 0.6177777777777778, 0.6133333333333333, 0.6066666666666667, 0.6055555555555555, 0.6011111111111112, 0.5988888888888889, 0.5977777777777777, 0.5955555555555555, 0.5955555555555555, 0.5933333333333334, 0.59, 0.5888888888888889, 0.5866666666666667, 0.5822222222222222, 0.5811111111111111, 0.58, 0.5777777777777777, 0.5744444444444444, 0.5722222222222222, 0.57, 0.5688888888888889, 0.5666666666666667, 0.5644444444444444, 0.5622222222222222, 0.5611111111111111, 0.5566666666666666, 0.5566666666666666, 0.5544444444444444, 0.5544444444444444, 0.5522222222222222, 0.5522222222222222, 0.5522222222222222, 0.5522222222222222, 0.55, 0.55, 0.5477777777777778, 0.5477777777777778, 0.5466666666666666, 0.5455555555555556, 0.5455555555555556, 0.5444444444444444, 0.5433333333333333, 0.5411111111111111, 0.54, 0.5388888888888889, 0.5355555555555556, 0.5333333333333333, 0.5333333333333333, 0.5322222222222223, 0.5311111111111111, 0.5311111111111111, 0.5311111111111111, 0.5311111111111111, 0.53, 0.53, 0.5288888888888889, 0.5277777777777778, 0.5255555555555556, 0.5255555555555556, 0.5255555555555556, 0.5255555555555556, 0.5255555555555556, 0.5244444444444445, 0.5233333333333333, 0.5233333333333333, 0.5233333333333333, 0.5233333333333333, 0.5233333333333333, 0.5222222222222223, 0.5222222222222223, 0.5222222222222223, 0.5222222222222223, 0.5222222222222223, 0.5222222222222223, 0.5222222222222223, 0.5211111111111111, 0.5211111111111111, 0.5211111111111111, 0.5211111111111111, 0.5211111111111111, 0.52, 0.52, 0.52, 0.52, 0.52, 0.52, 0.5188888888888888, 0.5188888888888888, 0.5144444444444445, 0.5144444444444445, 0.5133333333333333, 0.5133333333333333, 0.5122222222222222, 0.5111111111111111, 0.5088888888888888, 0.5088888888888888, 0.5077777777777778, 0.5066666666666667, 0.5044444444444445, 0.5044444444444445, 0.5044444444444445, 0.5044444444444445, 0.5044444444444445, 0.5044444444444445, 0.5033333333333333, 0.5033333333333333, 0.5033333333333333, 0.5033333333333333, 0.5033333333333333, 0.5022222222222222, 0.5022222222222222, 0.5022222222222222, 0.5022222222222222, 0.5022222222222222, 0.5022222222222222, 0.5022222222222222, 0.5022222222222222, 0.5022222222222222, 0.5022222222222222, 0.5022222222222222, 0.5022222222222222, 0.5022222222222222, 0.5022222222222222, 0.5022222222222222, 0.5022222222222222, 0.5022222222222222, 0.5022222222222222, 0.5022222222222222, 0.5022222222222222, 0.5022222222222222, 0.5011111111111111, 0.5011111111111111, 0.5, 0.5, 0.5, 0.5, 0.5, 0.5, 0.5, 0.5, 0.5, 0.5, 0.5, 0.5, 0.5, 0.5, 0.5, 0.5, 0.5, 0.5, 0.5, 0.5, 0.5, 0.5, 0.5, 0.5, 0.5, 0.5, 0.5, 0.5, 0.5, 0.5, 0.5, 0.5, 0.5, 0.5, 0.5]\n"
     ]
    }
   ],
   "source": [
    "print(mpn.b)\n",
    "print(accuracy)"
   ]
  },
  {
   "cell_type": "markdown",
   "metadata": {
    "_uuid": "5f025d863958d99d9ae076ce0951cfcef48dc435",
    "colab_type": "text",
    "id": "8IMv7SCUijIa"
   },
   "source": [
    "## Sample Submission"
   ]
  },
  {
   "cell_type": "code",
   "execution_count": 14,
   "metadata": {
    "_uuid": "1f8d692a58cd1bc2e29dd83981c71a0ec1bb42aa",
    "colab": {},
    "colab_type": "code",
    "id": "4_pBsgYlijIb"
   },
   "outputs": [],
   "source": [
    "Y_pred_test = mpn.predict(X_bin_test)\n",
    "# Y_pred_binarised_test = (Y_pred_test >= 0.5).astype(\"int\").ravel()\n",
    "\n",
    "submission = {}\n",
    "submission['ImageId'] = ID_test\n",
    "submission['Class'] = Y_pred_test\n",
    "\n",
    "submission = pd.DataFrame(submission)\n",
    "submission = submission[['ImageId', 'Class']]\n",
    "submission = submission.sort_values(['ImageId'])\n",
    "submission.to_csv(\"submission_MPN.csv\", index=False)"
   ]
  },
  {
   "cell_type": "code",
   "execution_count": 15,
   "metadata": {
    "_uuid": "ea08ec51d532370c72442c7461271e1746afa01d",
    "colab": {},
    "colab_type": "code",
    "id": "LCkK3-CDijIe"
   },
   "outputs": [
    {
     "data": {
      "text/html": [
       "<div>\n",
       "<style scoped>\n",
       "    .dataframe tbody tr th:only-of-type {\n",
       "        vertical-align: middle;\n",
       "    }\n",
       "\n",
       "    .dataframe tbody tr th {\n",
       "        vertical-align: top;\n",
       "    }\n",
       "\n",
       "    .dataframe thead th {\n",
       "        text-align: right;\n",
       "    }\n",
       "</style>\n",
       "<table border=\"1\" class=\"dataframe\">\n",
       "  <thead>\n",
       "    <tr style=\"text-align: right;\">\n",
       "      <th></th>\n",
       "      <th>ImageId</th>\n",
       "      <th>Class</th>\n",
       "    </tr>\n",
       "  </thead>\n",
       "  <tbody>\n",
       "    <tr>\n",
       "      <th>289</th>\n",
       "      <td>0</td>\n",
       "      <td>1</td>\n",
       "    </tr>\n",
       "    <tr>\n",
       "      <th>147</th>\n",
       "      <td>1</td>\n",
       "      <td>0</td>\n",
       "    </tr>\n",
       "    <tr>\n",
       "      <th>245</th>\n",
       "      <td>2</td>\n",
       "      <td>0</td>\n",
       "    </tr>\n",
       "    <tr>\n",
       "      <th>175</th>\n",
       "      <td>3</td>\n",
       "      <td>1</td>\n",
       "    </tr>\n",
       "    <tr>\n",
       "      <th>43</th>\n",
       "      <td>4</td>\n",
       "      <td>0</td>\n",
       "    </tr>\n",
       "    <tr>\n",
       "      <th>224</th>\n",
       "      <td>5</td>\n",
       "      <td>1</td>\n",
       "    </tr>\n",
       "    <tr>\n",
       "      <th>115</th>\n",
       "      <td>6</td>\n",
       "      <td>0</td>\n",
       "    </tr>\n",
       "    <tr>\n",
       "      <th>90</th>\n",
       "      <td>7</td>\n",
       "      <td>1</td>\n",
       "    </tr>\n",
       "    <tr>\n",
       "      <th>148</th>\n",
       "      <td>8</td>\n",
       "      <td>0</td>\n",
       "    </tr>\n",
       "    <tr>\n",
       "      <th>71</th>\n",
       "      <td>9</td>\n",
       "      <td>1</td>\n",
       "    </tr>\n",
       "    <tr>\n",
       "      <th>36</th>\n",
       "      <td>10</td>\n",
       "      <td>1</td>\n",
       "    </tr>\n",
       "    <tr>\n",
       "      <th>77</th>\n",
       "      <td>11</td>\n",
       "      <td>1</td>\n",
       "    </tr>\n",
       "    <tr>\n",
       "      <th>141</th>\n",
       "      <td>12</td>\n",
       "      <td>1</td>\n",
       "    </tr>\n",
       "    <tr>\n",
       "      <th>88</th>\n",
       "      <td>13</td>\n",
       "      <td>0</td>\n",
       "    </tr>\n",
       "    <tr>\n",
       "      <th>298</th>\n",
       "      <td>14</td>\n",
       "      <td>1</td>\n",
       "    </tr>\n",
       "    <tr>\n",
       "      <th>138</th>\n",
       "      <td>15</td>\n",
       "      <td>0</td>\n",
       "    </tr>\n",
       "    <tr>\n",
       "      <th>193</th>\n",
       "      <td>16</td>\n",
       "      <td>0</td>\n",
       "    </tr>\n",
       "    <tr>\n",
       "      <th>22</th>\n",
       "      <td>17</td>\n",
       "      <td>0</td>\n",
       "    </tr>\n",
       "    <tr>\n",
       "      <th>295</th>\n",
       "      <td>18</td>\n",
       "      <td>1</td>\n",
       "    </tr>\n",
       "    <tr>\n",
       "      <th>133</th>\n",
       "      <td>19</td>\n",
       "      <td>1</td>\n",
       "    </tr>\n",
       "    <tr>\n",
       "      <th>226</th>\n",
       "      <td>20</td>\n",
       "      <td>0</td>\n",
       "    </tr>\n",
       "    <tr>\n",
       "      <th>40</th>\n",
       "      <td>21</td>\n",
       "      <td>1</td>\n",
       "    </tr>\n",
       "    <tr>\n",
       "      <th>143</th>\n",
       "      <td>22</td>\n",
       "      <td>0</td>\n",
       "    </tr>\n",
       "    <tr>\n",
       "      <th>228</th>\n",
       "      <td>23</td>\n",
       "      <td>1</td>\n",
       "    </tr>\n",
       "    <tr>\n",
       "      <th>113</th>\n",
       "      <td>24</td>\n",
       "      <td>1</td>\n",
       "    </tr>\n",
       "    <tr>\n",
       "      <th>137</th>\n",
       "      <td>25</td>\n",
       "      <td>1</td>\n",
       "    </tr>\n",
       "    <tr>\n",
       "      <th>187</th>\n",
       "      <td>26</td>\n",
       "      <td>0</td>\n",
       "    </tr>\n",
       "    <tr>\n",
       "      <th>194</th>\n",
       "      <td>27</td>\n",
       "      <td>0</td>\n",
       "    </tr>\n",
       "    <tr>\n",
       "      <th>76</th>\n",
       "      <td>28</td>\n",
       "      <td>0</td>\n",
       "    </tr>\n",
       "    <tr>\n",
       "      <th>202</th>\n",
       "      <td>29</td>\n",
       "      <td>1</td>\n",
       "    </tr>\n",
       "    <tr>\n",
       "      <th>...</th>\n",
       "      <td>...</td>\n",
       "      <td>...</td>\n",
       "    </tr>\n",
       "    <tr>\n",
       "      <th>60</th>\n",
       "      <td>270</td>\n",
       "      <td>0</td>\n",
       "    </tr>\n",
       "    <tr>\n",
       "      <th>243</th>\n",
       "      <td>271</td>\n",
       "      <td>1</td>\n",
       "    </tr>\n",
       "    <tr>\n",
       "      <th>44</th>\n",
       "      <td>272</td>\n",
       "      <td>0</td>\n",
       "    </tr>\n",
       "    <tr>\n",
       "      <th>17</th>\n",
       "      <td>273</td>\n",
       "      <td>0</td>\n",
       "    </tr>\n",
       "    <tr>\n",
       "      <th>11</th>\n",
       "      <td>274</td>\n",
       "      <td>0</td>\n",
       "    </tr>\n",
       "    <tr>\n",
       "      <th>145</th>\n",
       "      <td>275</td>\n",
       "      <td>0</td>\n",
       "    </tr>\n",
       "    <tr>\n",
       "      <th>196</th>\n",
       "      <td>276</td>\n",
       "      <td>1</td>\n",
       "    </tr>\n",
       "    <tr>\n",
       "      <th>34</th>\n",
       "      <td>277</td>\n",
       "      <td>1</td>\n",
       "    </tr>\n",
       "    <tr>\n",
       "      <th>181</th>\n",
       "      <td>278</td>\n",
       "      <td>1</td>\n",
       "    </tr>\n",
       "    <tr>\n",
       "      <th>52</th>\n",
       "      <td>279</td>\n",
       "      <td>0</td>\n",
       "    </tr>\n",
       "    <tr>\n",
       "      <th>247</th>\n",
       "      <td>280</td>\n",
       "      <td>1</td>\n",
       "    </tr>\n",
       "    <tr>\n",
       "      <th>14</th>\n",
       "      <td>281</td>\n",
       "      <td>0</td>\n",
       "    </tr>\n",
       "    <tr>\n",
       "      <th>172</th>\n",
       "      <td>282</td>\n",
       "      <td>0</td>\n",
       "    </tr>\n",
       "    <tr>\n",
       "      <th>155</th>\n",
       "      <td>283</td>\n",
       "      <td>0</td>\n",
       "    </tr>\n",
       "    <tr>\n",
       "      <th>233</th>\n",
       "      <td>284</td>\n",
       "      <td>1</td>\n",
       "    </tr>\n",
       "    <tr>\n",
       "      <th>112</th>\n",
       "      <td>285</td>\n",
       "      <td>0</td>\n",
       "    </tr>\n",
       "    <tr>\n",
       "      <th>151</th>\n",
       "      <td>286</td>\n",
       "      <td>1</td>\n",
       "    </tr>\n",
       "    <tr>\n",
       "      <th>29</th>\n",
       "      <td>287</td>\n",
       "      <td>1</td>\n",
       "    </tr>\n",
       "    <tr>\n",
       "      <th>78</th>\n",
       "      <td>288</td>\n",
       "      <td>1</td>\n",
       "    </tr>\n",
       "    <tr>\n",
       "      <th>5</th>\n",
       "      <td>289</td>\n",
       "      <td>0</td>\n",
       "    </tr>\n",
       "    <tr>\n",
       "      <th>161</th>\n",
       "      <td>290</td>\n",
       "      <td>1</td>\n",
       "    </tr>\n",
       "    <tr>\n",
       "      <th>129</th>\n",
       "      <td>291</td>\n",
       "      <td>0</td>\n",
       "    </tr>\n",
       "    <tr>\n",
       "      <th>270</th>\n",
       "      <td>292</td>\n",
       "      <td>1</td>\n",
       "    </tr>\n",
       "    <tr>\n",
       "      <th>287</th>\n",
       "      <td>293</td>\n",
       "      <td>1</td>\n",
       "    </tr>\n",
       "    <tr>\n",
       "      <th>258</th>\n",
       "      <td>294</td>\n",
       "      <td>1</td>\n",
       "    </tr>\n",
       "    <tr>\n",
       "      <th>50</th>\n",
       "      <td>295</td>\n",
       "      <td>1</td>\n",
       "    </tr>\n",
       "    <tr>\n",
       "      <th>32</th>\n",
       "      <td>296</td>\n",
       "      <td>0</td>\n",
       "    </tr>\n",
       "    <tr>\n",
       "      <th>152</th>\n",
       "      <td>297</td>\n",
       "      <td>0</td>\n",
       "    </tr>\n",
       "    <tr>\n",
       "      <th>276</th>\n",
       "      <td>298</td>\n",
       "      <td>0</td>\n",
       "    </tr>\n",
       "    <tr>\n",
       "      <th>280</th>\n",
       "      <td>299</td>\n",
       "      <td>1</td>\n",
       "    </tr>\n",
       "  </tbody>\n",
       "</table>\n",
       "<p>300 rows × 2 columns</p>\n",
       "</div>"
      ],
      "text/plain": [
       "     ImageId  Class\n",
       "289        0      1\n",
       "147        1      0\n",
       "245        2      0\n",
       "175        3      1\n",
       "43         4      0\n",
       "224        5      1\n",
       "115        6      0\n",
       "90         7      1\n",
       "148        8      0\n",
       "71         9      1\n",
       "36        10      1\n",
       "77        11      1\n",
       "141       12      1\n",
       "88        13      0\n",
       "298       14      1\n",
       "138       15      0\n",
       "193       16      0\n",
       "22        17      0\n",
       "295       18      1\n",
       "133       19      1\n",
       "226       20      0\n",
       "40        21      1\n",
       "143       22      0\n",
       "228       23      1\n",
       "113       24      1\n",
       "137       25      1\n",
       "187       26      0\n",
       "194       27      0\n",
       "76        28      0\n",
       "202       29      1\n",
       "..       ...    ...\n",
       "60       270      0\n",
       "243      271      1\n",
       "44       272      0\n",
       "17       273      0\n",
       "11       274      0\n",
       "145      275      0\n",
       "196      276      1\n",
       "34       277      1\n",
       "181      278      1\n",
       "52       279      0\n",
       "247      280      1\n",
       "14       281      0\n",
       "172      282      0\n",
       "155      283      0\n",
       "233      284      1\n",
       "112      285      0\n",
       "151      286      1\n",
       "29       287      1\n",
       "78       288      1\n",
       "5        289      0\n",
       "161      290      1\n",
       "129      291      0\n",
       "270      292      1\n",
       "287      293      1\n",
       "258      294      1\n",
       "50       295      1\n",
       "32       296      0\n",
       "152      297      0\n",
       "276      298      0\n",
       "280      299      1\n",
       "\n",
       "[300 rows x 2 columns]"
      ]
     },
     "execution_count": 15,
     "metadata": {},
     "output_type": "execute_result"
    }
   ],
   "source": [
    "submission"
   ]
  },
  {
   "cell_type": "code",
   "execution_count": 16,
   "metadata": {
    "_uuid": "59490c41a052b28822bdc1ef6e45587ecc7b9641"
   },
   "outputs": [
    {
     "data": {
      "text/plain": [
       "150"
      ]
     },
     "execution_count": 16,
     "metadata": {},
     "output_type": "execute_result"
    }
   ],
   "source": [
    "sum(submission['Class'])"
   ]
  }
 ],
 "metadata": {
  "colab": {
   "collapsed_sections": [],
   "name": "Text - Non Text Classification.ipynb",
   "provenance": [],
   "version": "0.3.2"
  },
  "kernelspec": {
   "display_name": "Python 3",
   "language": "python",
   "name": "python3"
  },
  "language_info": {
   "codemirror_mode": {
    "name": "ipython",
    "version": 3
   },
   "file_extension": ".py",
   "mimetype": "text/x-python",
   "name": "python",
   "nbconvert_exporter": "python",
   "pygments_lexer": "ipython3",
   "version": "3.6.6"
  }
 },
 "nbformat": 4,
 "nbformat_minor": 1
}
